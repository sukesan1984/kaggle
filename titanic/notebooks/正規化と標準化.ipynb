{
 "cells": [
  {
   "cell_type": "code",
   "execution_count": 24,
   "metadata": {},
   "outputs": [
    {
     "name": "stdout",
     "output_type": "stream",
     "text": [
      "[0.   0.25 0.5  0.75 1.  ]\n",
      "[-1.41421356 -0.70710678  0.          0.70710678  1.41421356]\n"
     ]
    },
    {
     "data": {
      "text/plain": [
       "array([[-0.70710678, -1.41421356, -1.41421356, -1.41421356, -1.41421356],\n",
       "       [ 1.41421356,  0.70710678,  0.70710678,  0.70710678,  0.70710678],\n",
       "       [-0.70710678,  0.70710678,  0.70710678,  0.70710678,  0.70710678]])"
      ]
     },
     "execution_count": 24,
     "metadata": {},
     "output_type": "execute_result"
    }
   ],
   "source": [
    "## https://fisproject.jp/2016/06/data-standardization-using-python/\n",
    "# 正規化(normalization)\n",
    "# 標準化(standardization)\n",
    "import numpy as np\n",
    "import scipy as sp\n",
    "import scipy.stats\n",
    "x = [1, 2, 3, 4, 5]\n",
    "x_copy = np.copy(x)\n",
    "\n",
    "# 正規化\n",
    "x_norm = (x_copy - x_copy.min())/(x_copy.max() - x_copy.min())\n",
    "print(x_norm)\n",
    "\n",
    "# 標準化\n",
    "x_std = (x_copy - x_copy.mean()) / x_copy.std()\n",
    "print(x_std)\n",
    "\n",
    "hoge = [[1, 2, 3, 4, 5],[3,4,5,6,7], [1, 4, 5, 6,7]]\n",
    "sp.stats.zscore(hoge, axis=0)"
   ]
  }
 ],
 "metadata": {
  "kernelspec": {
   "display_name": "Python 3",
   "language": "python",
   "name": "python3"
  },
  "language_info": {
   "codemirror_mode": {
    "name": "ipython",
    "version": 3
   },
   "file_extension": ".py",
   "mimetype": "text/x-python",
   "name": "python",
   "nbconvert_exporter": "python",
   "pygments_lexer": "ipython3",
   "version": "3.6.0"
  }
 },
 "nbformat": 4,
 "nbformat_minor": 2
}
