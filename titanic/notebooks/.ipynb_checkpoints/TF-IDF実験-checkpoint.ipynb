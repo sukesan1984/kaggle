{
 "cells": [
  {
   "cell_type": "code",
   "execution_count": 6,
   "metadata": {},
   "outputs": [
    {
     "name": "stdout",
     "output_type": "stream",
     "text": [
      "[[0.4  0.77 0.49]\n",
      " [0.85 0.   0.52]\n",
      " [0.26 0.   0.96]\n",
      " [1.   0.   0.  ]]\n"
     ]
    }
   ],
   "source": [
    "#http://ailaby.com/tfidf/\n",
    "import numpy as np\n",
    "from sklearn.feature_extraction.text import TfidfVectorizer\n",
    "\n",
    "np.set_printoptions(precision=2)\n",
    "docs = np.array([\n",
    "    '白 黒 赤',  #文書1\n",
    "    '白 白 黒', #文書2\n",
    "    '白 黒 黒 黒', #文書3\n",
    "    '白' #文書4\n",
    "])\n",
    "\n",
    "vectorizer = TfidfVectorizer(use_idf=True, token_pattern=u'(?u)\\\\b\\\\w+\\\\b')\n",
    "vecs = vectorizer.fit_transform(docs)\n",
    "print(vecs.toarray())\n"
   ]
  }
 ],
 "metadata": {
  "kernelspec": {
   "display_name": "Python 3",
   "language": "python",
   "name": "python3"
  },
  "language_info": {
   "codemirror_mode": {
    "name": "ipython",
    "version": 3
   },
   "file_extension": ".py",
   "mimetype": "text/x-python",
   "name": "python",
   "nbconvert_exporter": "python",
   "pygments_lexer": "ipython3",
   "version": "3.6.0"
  }
 },
 "nbformat": 4,
 "nbformat_minor": 2
}
